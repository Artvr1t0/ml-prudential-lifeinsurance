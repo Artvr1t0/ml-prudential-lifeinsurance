{
 "cells": [
  {
   "cell_type": "code",
   "execution_count": 4,
   "metadata": {},
   "outputs": [],
   "source": [
    "import pandas as pd \n",
    "import numpy  as np\n",
    "from sklearn.model_selection import train_test_split, GridSearchCV\n",
    "from sklearn.ensemble import RandomForestClassifier\n",
    "from sklearn.metrics import make_scorer, cohen_kappa_score, accuracy_score\n",
    "from sklearn.pipeline import Pipeline\n",
    "from sklearn.preprocessing import StandardScaler\n",
    "from sklearn.impute import SimpleImputer, KNNImputer\n",
    "from sklearn.feature_extraction.text import TfidfVectorizer\n",
    "import matplotlib.pyplot as plt\n",
    "\n",
    "np.random.seed(42)\n",
    "pd.set_option('display.max_columns', None)  # Show all columns\n",
    "pd.set_option('display.width', None)        # Unlimited width display\n",
    "pd.set_option('display.max_colwidth', None) # Show full content of each column"
   ]
  },
  {
   "cell_type": "code",
   "execution_count": 3,
   "metadata": {},
   "outputs": [],
   "source": [
    "df_train = pd.read_csv(\"./data/train.csv\")\n",
    "df_train.head(300).to_csv(\"./data/sample_train.csv\")\n",
    "df_train.set_index('Id', inplace=True)\n",
    "df_train.rename(columns={'Response': 'target'}, inplace=True)\n",
    "dc = df_train.describe(include='all')  # All columns including categorical"
   ]
  },
  {
   "cell_type": "code",
   "execution_count": 79,
   "metadata": {},
   "outputs": [
    {
     "data": {
      "image/png": "[encoded data removed]",
      "text/plain": [
       "<Figure size 1000x600 with 1 Axes>"
      ]
     },
     "metadata": {},
     "output_type": "display_data"
    }
   ],
   "source": [
    "response_counts = df_train['target'].value_counts()\n",
    "plt.figure(figsize=(10, 6))\n",
    "plt.bar(response_counts.index, response_counts.values)\n",
    "plt.title('Distribution of Response Values')\n",
    "plt.xlabel('Response')\n",
    "plt.ylabel('Count')\n",
    "plt.grid(True, alpha=0.3)\n",
    "plt.show()"
   ]
  },
  {
   "cell_type": "code",
   "execution_count": 80,
   "metadata": {},
   "outputs": [
    {
     "name": "stdout",
     "output_type": "stream",
     "text": [
      "Percentage of NaN values in each column (sorted):\n",
      "                 Column      NaN %\n",
      "0    Medical_History_10  99.061990\n",
      "1    Medical_History_32  98.135767\n",
      "2    Medical_History_24  93.598963\n",
      "3    Medical_History_15  75.101463\n",
      "4         Family_Hist_5  70.411411\n",
      "..                  ...        ...\n",
      "122   Medical_History_7   0.000000\n",
      "123   Medical_History_6   0.000000\n",
      "124   Medical_History_5   0.000000\n",
      "125   Medical_History_4   0.000000\n",
      "126              target   0.000000\n",
      "\n",
      "[127 rows x 2 columns]\n"
     ]
    }
   ],
   "source": [
    "# Calculate percentage of NaN values for each column\n",
    "nan_stats = (df_train.isna().sum() / len(df_train) * 100).sort_values(ascending=False)\n",
    "\n",
    "# Create a DataFrame with the statistics\n",
    "nan_stats_df = pd.DataFrame({\n",
    "    'Column': nan_stats.index,\n",
    "    'NaN %': nan_stats.values\n",
    "})\n",
    "\n",
    "# Display results\n",
    "print(\"Percentage of NaN values in each column (sorted):\")\n",
    "print(nan_stats_df)"
   ]
  },
  {
   "cell_type": "code",
   "execution_count": 134,
   "metadata": {},
   "outputs": [],
   "source": [
    "X = df_train.drop('target', axis=1)\n",
    "y = df_train['target']\n",
    "\n",
    "X_train, X_test, y_train, y_test = train_test_split(X, y, test_size=0.15, random_state=42, stratify=y)"
   ]
  },
  {
   "cell_type": "code",
   "execution_count": 135,
   "metadata": {},
   "outputs": [],
   "source": [
    "def drop_high_missing_columns(X, threshold=80):\n",
    "    \"\"\"\n",
    "    Drop columns with missing values percentage higher than the threshold\n",
    "    \"\"\"\n",
    "    missing_percent = X.isnull().mean() * 100\n",
    "    columns_to_keep = missing_percent[missing_percent <= threshold].index.tolist()\n",
    "    return X[columns_to_keep]\n",
    "\n",
    "\n",
    "class MissingIndicator:\n",
    "    def __init__(self, threshold=80):\n",
    "        self.threshold = threshold\n",
    "        self.high_missing_cols = None\n",
    "        self.low_missing_cols = None\n",
    "    \n",
    "    def fit(self, X, y=None):\n",
    "        # Convert to DataFrame if not already\n",
    "        X_df = pd.DataFrame(X)\n",
    "        # Identify columns with high missing values\n",
    "        missing_percent = X_df.isnull().mean() * 100\n",
    "        self.high_missing_cols = [col for col, perc in missing_percent.items() if perc > self.threshold]\n",
    "        self.low_missing_cols = [col for col, perc in missing_percent.items() if perc <= self.threshold]\n",
    "        return self\n",
    "    \n",
    "    def transform(self, X):\n",
    "        # Convert to DataFrame if not already\n",
    "        X_df = pd.DataFrame(X)\n",
    "        # Return only columns with low missing values\n",
    "        return X_df[self.low_missing_cols]\n",
    "    \n",
    "    def fit_transform(self, X, y=None):\n",
    "        self.fit(X)\n",
    "        return self.transform(X)"
   ]
  },
  {
   "cell_type": "code",
   "execution_count": 136,
   "metadata": {},
   "outputs": [],
   "source": [
    "from sklearn.preprocessing import LabelEncoder\n",
    "\n",
    "le = LabelEncoder()\n",
    "y_train_encoded = le.fit_transform(y_train)  # This will convert [1,2,3,4,5,6,7,8] to [0,1,2,3,4,5,6,7]\n"
   ]
  },
  {
   "cell_type": "code",
   "execution_count": 140,
   "metadata": {},
   "outputs": [],
   "source": [
    "from sklearn.compose import ColumnTransformer\n",
    "from sklearn.feature_selection import VarianceThreshold\n",
    "from sklearn.preprocessing import StandardScaler, OneHotEncoder\n",
    "from xgboost import XGBClassifier\n",
    "\n",
    "# Identify column types\n",
    "numeric_cols = X.select_dtypes(include=['number']).columns.tolist()\n",
    "categorical_cols = X.select_dtypes(include=['object']).columns.tolist()\n",
    "\n",
    "# Pipeline for numeric features\n",
    "numeric_transformer = Pipeline(steps=[\n",
    "#    ('missing_filter', MissingIndicator(threshold=90)),\n",
    "#    ('missing_flag', MissingIndicator()),\n",
    "    ('imputer', SimpleImputer(strategy='mean')),\n",
    "    ('scaler', StandardScaler())\n",
    "])\n",
    "\n",
    "# Pipeline for categorical features\n",
    "categorical_transformer = Pipeline(steps=[\n",
    "#    ('missing_filter', MissingIndicator(threshold=80)),\n",
    "    ('imputer', SimpleImputer(strategy='most_frequent')),\n",
    "    ('encoder', OneHotEncoder(handle_unknown='ignore'))\n",
    "])\n",
    "\n",
    "preprocessor = ColumnTransformer(\n",
    "    transformers=[\n",
    "        ('num', numeric_transformer, numeric_cols),\n",
    "        ('cat', categorical_transformer, categorical_cols)\n",
    "    ],\n",
    "    remainder='drop'  # Drop any other columns\n",
    ")\n",
    "\n",
    "# Full pipeline with model\n",
    "model_pipeline = Pipeline(steps=[\n",
    "    ('preprocessor', preprocessor),\n",
    "#    ('variance_threshold', VarianceThreshold(threshold=0.01)),  # Remove low-variance features\n",
    "    ('classifier', XGBClassifier(n_estimators=100, objective='reg:linear', eta=0.05, min_child_weight=360, subsample=0.85, colsample_bytree=0.3, silent=1, max_depth=7, n_jobs=-1, random_state=42))\n",
    "])"
   ]
  },
  {
   "cell_type": "code",
   "execution_count": 146,
   "metadata": {},
   "outputs": [
    {
     "name": "stderr",
     "output_type": "stream",
     "text": [
      "/Users/atisanchez/pj/current/ml-prudential-insurance/.venv/lib/python3.10/site-packages/xgboost/training.py:183: UserWarning: [23:21:29] WARNING: /Users/runner/work/xgboost/xgboost/src/learner.cc:738: \n",
      "Parameters: { \"silent\" } are not used.\n",
      "\n",
      "  bst.update(dtrain, iteration=i, fobj=obj)\n"
     ]
    }
   ],
   "source": [
    "model_pipeline.fit(X_train, y_train-1)\n",
    "y_pred = model_pipeline.predict(X_test)\n",
    "kappa = cohen_kappa_score(y_test-1, y_pred-1, weights='quadratic')"
   ]
  },
  {
   "cell_type": "code",
   "execution_count": 147,
   "metadata": {},
   "outputs": [
    {
     "data": {
      "text/plain": [
       "np.float64(0.5090157263233238)"
      ]
     },
     "execution_count": 147,
     "metadata": {},
     "output_type": "execute_result"
    }
   ],
   "source": [
    "kappa"
   ]
  }
 ],
 "metadata": {
  "kernelspec": {
   "display_name": ".venv",
   "language": "python",
   "name": "python3"
  },
  "language_info": {
   "codemirror_mode": {
    "name": "ipython",
    "version": 3
   },
   "file_extension": ".py",
   "mimetype": "text/x-python",
   "name": "python",
   "nbconvert_exporter": "python",
   "pygments_lexer": "ipython3",
   "version": "3.10.16"
  }
 },
 "nbformat": 4,
 "nbformat_minor": 2
}
